{
 "cells": [
  {
   "cell_type": "code",
   "execution_count": 33,
   "metadata": {},
   "outputs": [],
   "source": [
    "import re\n",
    "\n",
    "class TiendaOnline():\n",
    "    def __init__(self,ventas_totales):\n",
    "        self.inventario = []\n",
    "        self.clientes = {}\n",
    "        self.ventas_totales = ventas_totales\n",
    "\n",
    "    def agregar_producto(self, nombre, precio, cantidad):\n",
    "        #recorre el inventario para ver los productos\n",
    "        for producto in self.inventario:\n",
    "            #si el producto ya esta, mensaje de que el producto esta dentro\n",
    "            if producto[\"Nombre\"] == nombre:\n",
    "                print(f\"{nombre} ya esta dentro del inventario\")\n",
    "                #actualiza el stock de productos\n",
    "                producto[\"Cantidad\"] += cantidad\n",
    "                #para que no vuelva a iterar\n",
    "                return\n",
    "            \n",
    "        #si no esta, lo agrega al inventario\n",
    "        nuevo_producto = {\"Nombre\": nombre, \"Precio\": precio, \"Cantidad\": cantidad}       \n",
    "        self.inventario.append(nuevo_producto)\n",
    "        print(f\"El producto {nombre} se agregó correctamente\")\n",
    "           \n",
    "    def ver_inventario(self):\n",
    "        #recorremos el inventario para imprimir cada producto que hay dentro de el y sus detalles\n",
    "            for producto in self.inventario:\n",
    "                print(f\"Nombre: {producto['Nombre']}, Precio: €{producto['Precio']}, Cantidad: {producto['Cantidad']}\")\n",
    "\n",
    "\n",
    "    def buscar_producto(self,nombre):\n",
    "        for producto in self.inventario:\n",
    "            #buscamos el producto tomando su nombre como parametro y se imprime la informacion \n",
    "            if producto['Nombre'] == nombre:\n",
    "                print(f\"Nombre: {producto['Nombre']}, Precio: €{producto['Precio']}, Cantidad: {producto['Cantidad']}\")\n",
    "                \n",
    "    def actualizar_stock(self,nombre,cantidad):   \n",
    "        for prod in self.inventario:\n",
    "            #actualizamos el stock si lo encuentra\n",
    "            if prod[\"Nombre\"] == nombre:\n",
    "                prod[\"Cantidad\"] += cantidad\n",
    "                print(\"Stock de producto actualizado correctamente\")\n",
    "                return\n",
    "        #si no lo encuentra, imprime que no esta\n",
    "        if nombre not in self.inventario:\n",
    "            print(f\"{nombre} no se encuentra en el inventario\")\n",
    "       \n",
    "        \n",
    "    def eliminar_producto(self, nombre):  \n",
    "        for prod in self.inventario:\n",
    "            #si encuentra el producto en el inventario, lo elimina\n",
    "            if prod[\"Nombre\"] == nombre:\n",
    "               self.inventario.remove(prod)\n",
    "               print(\"Producto eliminado correctamente\")\n",
    "               return\n",
    "           #si no lo encuentra, imprime un mensaje de error\n",
    "        if nombre not in self.inventario:\n",
    "            print(f\"{nombre} no esta en el inventario\")\n",
    "                \n",
    "    def calcular_valor_inventario(self):\n",
    "        #variable para poder multiplicar los precios de los productos con su stock y luego sumar todo\n",
    "        suma = 0\n",
    "        for prod in self.inventario:\n",
    "            #forma de acceder a la variable de cantidad y de precio\n",
    "            multiplicacion = prod[\"Cantidad\"] * prod [\"Precio\"]\n",
    "            suma += multiplicacion\n",
    "        print(f\"El total del inventario es de €{suma}\")\n",
    "        \n",
    "    def buscar_producto_regex(self, patron):\n",
    "        #lista vacia donde  agregar el producto que se encontro\n",
    "        coincidencias = []\n",
    "        \n",
    "        #recorre el inventario\n",
    "        for prod in self.inventario:\n",
    "            #extraer el nombre de producto de cada diccionario\n",
    "            nombre_producto = prod[\"Nombre\"]\n",
    "            #buscar coincidencia\n",
    "            palabras = re.findall(patron, nombre_producto)\n",
    "            \n",
    "            if palabras:\n",
    "                #agregar la coincidencia a la lista\n",
    "                coincidencias.append(prod)\n",
    "                \n",
    "        #devuelve la lista con las coincidencias\n",
    "        return coincidencias\n",
    "                \n",
    "    def realizar_compra(self):\n",
    "        #llamo a la funcion para ver el inventario\n",
    "        self.ver_inventario()\n",
    "        #condicion para el while\n",
    "        seguir_comprando = True\n",
    "        #lista para meter la compra del cliente\n",
    "        carrito = []\n",
    "        \n",
    "        #condicion si quiere seguir comprando\n",
    "        while seguir_comprando:\n",
    "            cliente = input(\"Ingrese el nombre del producto que desea comprar\").lower()\n",
    "            #recorrer cada producto del inventario\n",
    "            for prod in self.inventario:\n",
    "                #si la opcion del cliente coincide con lo que esta en el inventario\n",
    "                if cliente == prod[\"Nombre\"]:\n",
    "                    #se resta en el inventario la compra\n",
    "                    prod[\"Cantidad\"] -= 1\n",
    "                    #lo que compro el cliente pasa a la lista vacia carrito\n",
    "                    carrito.append(prod)\n",
    "            #condicion para seguir comprando o salir del while\n",
    "            decision = input(\"Desea seguir comprando? Ingrese si o no: \").lower()\n",
    "            if decision == \"si\":\n",
    "                seguir_comprando = True\n",
    "            else:\n",
    "                seguir_comprando = False\n",
    "        \n",
    "        #suma total de la compra del cliente\n",
    "        total = 0\n",
    "        #recorre el carrito\n",
    "        for element in carrito:\n",
    "            #se suma lo que haya en la lista carrito\n",
    "            total += element[\"Precio\"]\n",
    "        #imprime el total\n",
    "        print(f\"El total de su compra es de: €{total}\")\n",
    "        \n",
    "    \n",
    "    def procesar_pago(self):\n",
    "        #pedirle al cliente el monto a pagar y el monto de pago\n",
    "        monto_a_pagar = input(\"Ingrese el costo total de la compra: \")\n",
    "        pago_cliente = input(\"Ingrese la cantidad de pago: \")\n",
    "        #manejar excepciones, el cambio que debe recibir, si necesita cambio o saldo insuficiente\n",
    "        try:\n",
    "            entero_pago = float(monto_a_pagar)\n",
    "            entero_monto = float (pago_cliente)\n",
    "            if entero_pago < entero_monto:\n",
    "                resta = round(entero_monto - entero_pago ,2)\n",
    "                print (f\"Su cambio es de: €{resta}\")\n",
    "            elif entero_pago == entero_monto:\n",
    "                print(\"No necesita cambio. Muchas gracias por su compra!\")\n",
    "            else:\n",
    "             print(\"Saldo insuficiente\")\n",
    "        #en caso de no ingresar un valor numerico    \n",
    "        except ValueError:\n",
    "            print(\"Ingrese un valor numérico válido\")\n",
    "            \n",
    "\n",
    "            \n",
    "    def agregar_cliente(self, nombre, email):\n",
    "        #agregamos un nuevo cliente al inventario de clientes con su mail y las compras para tener su historial\n",
    "        self.clientes[nombre] = {'email': email, 'compras':[]}\n",
    "        return f\"{nombre} agregado\"\n",
    "\n",
    "    def ver_clientes(self):\n",
    "        #imprimimos todos los clientes del inventario clientes\n",
    "        for clientes in (self.clientes.items()):\n",
    "            print(f\"{clientes}\")\n",
    "            \n",
    "            \n",
    "    def registrar_compra(self, nombre_cliente, carrito):\n",
    "        #compara si el nombre del cliente esta en self.clientes    \n",
    "        if nombre_cliente in self.clientes:\n",
    "            total_compra = 0\n",
    "            #recorrer el diccionario de carrito\n",
    "            for key, value in carrito.items():\n",
    "                #si la key, se corresponde con la palabra que esta dentro de \"\", se corresponde con lo que esta guardado en la variable del mismo nombre\n",
    "                #para poder hacer la operacion del total de la compra\n",
    "                if key == 'precio':\n",
    "                    precio = value\n",
    "                elif key == 'cantidad':\n",
    "                    cantidad = value\n",
    "                    total_compra += precio * cantidad\n",
    "                    \n",
    "            #guardamos el total de la compra de cada cliente en el inventario de compras(donde se encuentra la cantidad de dinero que ingreso con las ventas)\n",
    "            self.ventas_totales += total_compra\n",
    "            #adjuntamos el carrito con el cliente, para poder tener todo su historial\n",
    "            self.clientes[nombre_cliente]['compras'].append({'Carrito': carrito, 'Total': total_compra})  \n",
    "            print(f\"{nombre_cliente} has comprado {carrito['cantidad']} {carrito['nombre']}. El total de la compra es de: €{total_compra}\")\n",
    "            \n",
    "        else:\n",
    "            print(f\"No se puede realizar la operación porque el cliente no está registrado en la base de datos\")\n",
    "            \n",
    "            \n",
    "    def ver_compras_cliente(self, nombre_cliente):\n",
    "        #si el nombre del cliente esta en el inventario\n",
    "        if nombre_cliente in self.clientes:\n",
    "            #forma de acceder a su historial de compras\n",
    "            self.clientes[nombre_cliente]['compras']\n",
    "            #imprimimos los detalles de lo que compro\n",
    "            print(f\"{nombre_cliente}, {self.clientes[nombre_cliente]['compras']}\")\n",
    "        else:\n",
    "            #si no esta, mensaje de error\n",
    "            print(f\"{nombre_cliente} no se encuentra registrado\")\n",
    "            \n",
    "    def calcular_ventas_totales(self):\n",
    "        #sumamos todas las ventas que se realizaron\n",
    "        return f\"{self.ventas_totales}\"\n",
    "    \n",
    "    \n",
    "        \n"
   ]
  },
  {
   "cell_type": "code",
   "execution_count": 34,
   "metadata": {},
   "outputs": [],
   "source": [
    "tienda = TiendaOnline(0)"
   ]
  },
  {
   "cell_type": "code",
   "execution_count": 35,
   "metadata": {},
   "outputs": [
    {
     "name": "stdout",
     "output_type": "stream",
     "text": [
      "El producto pelota de futbol se agregó correctamente\n"
     ]
    }
   ],
   "source": [
    "tienda.agregar_producto(\"pelota de futbol\", 10, 5)"
   ]
  },
  {
   "cell_type": "code",
   "execution_count": 36,
   "metadata": {},
   "outputs": [
    {
     "name": "stdout",
     "output_type": "stream",
     "text": [
      "El producto pelota de voley se agregó correctamente\n"
     ]
    }
   ],
   "source": [
    "tienda.agregar_producto(\"pelota de voley\", 12, 6)"
   ]
  },
  {
   "cell_type": "code",
   "execution_count": 37,
   "metadata": {},
   "outputs": [
    {
     "name": "stdout",
     "output_type": "stream",
     "text": [
      "El producto pelota de golf se agregó correctamente\n"
     ]
    }
   ],
   "source": [
    "tienda.agregar_producto(\"pelota de golf\", 18, 6)"
   ]
  },
  {
   "cell_type": "code",
   "execution_count": 39,
   "metadata": {},
   "outputs": [
    {
     "name": "stdout",
     "output_type": "stream",
     "text": [
      "El producto pelota de rugby se agregó correctamente\n"
     ]
    }
   ],
   "source": [
    "tienda.agregar_producto(\"pelota de rugby\", 15, 5)"
   ]
  },
  {
   "cell_type": "code",
   "execution_count": null,
   "metadata": {},
   "outputs": [],
   "source": [
    "tienda.agregar_producto(\"pelota de golf\", 18, 6)"
   ]
  },
  {
   "cell_type": "code",
   "execution_count": null,
   "metadata": {},
   "outputs": [],
   "source": [
    "tienda.ver_inventario()"
   ]
  },
  {
   "cell_type": "code",
   "execution_count": 93,
   "metadata": {},
   "outputs": [],
   "source": [
    "tienda.buscar_producto(\"pelota de voley\")"
   ]
  },
  {
   "cell_type": "code",
   "execution_count": null,
   "metadata": {},
   "outputs": [],
   "source": [
    "tienda.actualizar_stock(\"pelota de golf\", 5)\n",
    "\n",
    "#volver a ver_inventario() para corroborar que se ha actualizado el stock"
   ]
  },
  {
   "cell_type": "code",
   "execution_count": null,
   "metadata": {},
   "outputs": [],
   "source": [
    "tienda.eliminar_producto(\"pelota de voley\")\n",
    "\n",
    "#volver a ver_inventario() para corroborar que se elimino"
   ]
  },
  {
   "cell_type": "code",
   "execution_count": null,
   "metadata": {},
   "outputs": [],
   "source": [
    "tienda.calcular_valor_inventario()"
   ]
  },
  {
   "cell_type": "code",
   "execution_count": null,
   "metadata": {},
   "outputs": [],
   "source": [
    "tienda.buscar_producto_regex(\"futbol\")"
   ]
  },
  {
   "cell_type": "code",
   "execution_count": 40,
   "metadata": {},
   "outputs": [
    {
     "name": "stdout",
     "output_type": "stream",
     "text": [
      "Nombre: pelota de futbol, Precio: €10, Cantidad: 3\n",
      "Nombre: pelota de voley, Precio: €12, Cantidad: 5\n",
      "Nombre: pelota de golf, Precio: €18, Cantidad: 6\n",
      "Nombre: pelota de rugby, Precio: €15, Cantidad: 5\n",
      "El total de su compra es de: €15\n"
     ]
    }
   ],
   "source": [
    "tienda.realizar_compra()"
   ]
  },
  {
   "cell_type": "code",
   "execution_count": 47,
   "metadata": {},
   "outputs": [
    {
     "name": "stdout",
     "output_type": "stream",
     "text": [
      "Saldo insuficiente\n"
     ]
    }
   ],
   "source": [
    "tienda.procesar_pago()"
   ]
  },
  {
   "cell_type": "code",
   "execution_count": 43,
   "metadata": {},
   "outputs": [
    {
     "data": {
      "text/plain": [
       "'Franca agregado'"
      ]
     },
     "execution_count": 43,
     "metadata": {},
     "output_type": "execute_result"
    }
   ],
   "source": [
    "tienda.agregar_cliente(\"Franca\", \"francantortarolo@gmail.com\")\n"
   ]
  },
  {
   "cell_type": "code",
   "execution_count": null,
   "metadata": {},
   "outputs": [],
   "source": [
    "tienda.agregar_cliente(\"Nahuel\", \"nahuenanx@gmail.com\")"
   ]
  },
  {
   "cell_type": "code",
   "execution_count": null,
   "metadata": {},
   "outputs": [],
   "source": [
    "tienda.agregar_cliente(\"Myriam\", \"mytorta@gmail.com\")"
   ]
  },
  {
   "cell_type": "code",
   "execution_count": 44,
   "metadata": {},
   "outputs": [
    {
     "name": "stdout",
     "output_type": "stream",
     "text": [
      "('Franca', {'email': 'francantortarolo@gmail.com', 'compras': []})\n"
     ]
    }
   ],
   "source": [
    "tienda.ver_clientes()"
   ]
  },
  {
   "cell_type": "code",
   "execution_count": 41,
   "metadata": {},
   "outputs": [],
   "source": [
    "carrito_cliente1 = {\"nombre\": \"camisa\", \"precio\": 20,\"cantidad\": 3}"
   ]
  },
  {
   "cell_type": "code",
   "execution_count": 120,
   "metadata": {},
   "outputs": [],
   "source": [
    "carrito_cliente2 = {\"nombre\": \"pelota de futbol\", \"precio\": 15, \"cantidad\": 2}"
   ]
  },
  {
   "cell_type": "code",
   "execution_count": 45,
   "metadata": {},
   "outputs": [
    {
     "name": "stdout",
     "output_type": "stream",
     "text": [
      "Franca has comprado 3 camisa. El total de la compra es de: €60\n"
     ]
    }
   ],
   "source": [
    "tienda.registrar_compra(\"Franca\", carrito_cliente1)"
   ]
  },
  {
   "cell_type": "code",
   "execution_count": null,
   "metadata": {},
   "outputs": [],
   "source": [
    "tienda.registrar_compra(\"Nahuel\", carrito_cliente2)"
   ]
  },
  {
   "cell_type": "code",
   "execution_count": null,
   "metadata": {},
   "outputs": [],
   "source": [
    "tienda.registrar_compra(\"Bianca\", carrito_cliente2)"
   ]
  },
  {
   "cell_type": "code",
   "execution_count": null,
   "metadata": {},
   "outputs": [],
   "source": [
    "tienda.ver_compras_cliente(\"Nahuel\")"
   ]
  },
  {
   "cell_type": "code",
   "execution_count": null,
   "metadata": {},
   "outputs": [],
   "source": [
    "tienda.ver_compras_cliente(\"Franca\")"
   ]
  },
  {
   "cell_type": "code",
   "execution_count": null,
   "metadata": {},
   "outputs": [],
   "source": [
    "tienda.ver_compras_cliente(\"Bianca\")"
   ]
  },
  {
   "cell_type": "code",
   "execution_count": null,
   "metadata": {},
   "outputs": [],
   "source": [
    "tienda.calcular_ventas_totales()"
   ]
  }
 ],
 "metadata": {
  "kernelspec": {
   "display_name": "Python 3",
   "language": "python",
   "name": "python3"
  },
  "language_info": {
   "codemirror_mode": {
    "name": "ipython",
    "version": 3
   },
   "file_extension": ".py",
   "mimetype": "text/x-python",
   "name": "python",
   "nbconvert_exporter": "python",
   "pygments_lexer": "ipython3",
   "version": "3.11.5"
  }
 },
 "nbformat": 4,
 "nbformat_minor": 2
}
